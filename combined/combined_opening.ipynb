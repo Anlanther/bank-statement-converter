{
 "cells": [
  {
   "cell_type": "markdown",
   "metadata": {},
   "source": [
    "## Imports"
   ]
  },
  {
   "cell_type": "code",
   "execution_count": null,
   "metadata": {},
   "outputs": [],
   "source": [
    "# !pip install pdfplumber\n",
    "# !pip install pandas"
   ]
  },
  {
   "cell_type": "code",
   "execution_count": null,
   "metadata": {},
   "outputs": [],
   "source": [
    "import pdfplumber\n",
    "import pandas as pd\n",
    "from datetime import datetime\n",
    "from functools import reduce\n",
    "import os\n",
    "import re\n",
    "pd.set_option('display.max_columns', None)\n",
    "pd.set_option('display.max_rows', None)"
   ]
  },
  {
   "cell_type": "markdown",
   "metadata": {},
   "source": [
    "# =========================================="
   ]
  },
  {
   "cell_type": "markdown",
   "metadata": {},
   "source": [
    "## Functions"
   ]
  },
  {
   "cell_type": "code",
   "execution_count": null,
   "metadata": {},
   "outputs": [],
   "source": [
    "def convert_to_df(csv, bank_name):\n",
    "    df = pd.read_csv(csv, usecols=[\"Date\", \"Transaction Details\", \"Balance\"])\n",
    "    if bank_name == \"hsbc\":\n",
    "        df = df[df[\"Transaction Details\"].str.contains(\"B/F BALANCE\")]\n",
    "        df[\"Date\"] = pd.to_datetime(df['Date']).dt.strftime(\"%Y-%m\")\n",
    "        return df\n",
    "    if bank_name == 'sc':\n",
    "        df = df[df[\"Transaction Details\"].str.contains(\"BALANCE FROM PREVIOUS STATEMENT\")]\n",
    "        df[\"Date\"] = pd.to_datetime(df['Date']).dt.strftime(\"%Y-%m\")\n",
    "        return df\n",
    "    if bank_name == 'boc':\n",
    "        df = df[df[\"Transaction Details\"].str.contains(\"Balance Brought Forward\")]\n",
    "        df[\"Date\"] = pd.to_datetime(df['Date']).dt.strftime(\"%Y-%m\")\n",
    "        return df\n",
    "    return df"
   ]
  },
  {
   "cell_type": "markdown",
   "metadata": {},
   "source": [
    "# =========================================="
   ]
  },
  {
   "cell_type": "markdown",
   "metadata": {},
   "source": [
    "## START HERE"
   ]
  },
  {
   "cell_type": "code",
   "execution_count": null,
   "metadata": {},
   "outputs": [],
   "source": [
    "hsbc_df = convert_to_df(f'csv/hsbc.csv', 'hsbc')\n",
    "sc_df = convert_to_df(f'csv/sc.csv', 'sc')\n",
    "# boc_df = convert_to_df(f'csv/boc.csv', 'boc')"
   ]
  },
  {
   "cell_type": "code",
   "execution_count": null,
   "metadata": {},
   "outputs": [],
   "source": [
    "hsbc_df[[\"Date\", \"Balance\"]].reset_index(drop=True)"
   ]
  },
  {
   "cell_type": "code",
   "execution_count": null,
   "metadata": {},
   "outputs": [],
   "source": [
    "sc_df[[\"Date\", \"Balance\"]].reset_index(drop=True)"
   ]
  },
  {
   "cell_type": "code",
   "execution_count": null,
   "metadata": {},
   "outputs": [],
   "source": [
    "dfs_to_merge = [hsbc_df[[\"Date\", \"Balance\"]].reset_index(drop=True), sc_df[[\"Date\", \"Balance\"]].reset_index(drop=True)]\n",
    "merged_df = pd.concat(dfs_to_merge,axis=1,join='outer',ignore_index=True)\n",
    "merged_df"
   ]
  },
  {
   "cell_type": "code",
   "execution_count": null,
   "metadata": {},
   "outputs": [],
   "source": [
    "dfs_to_merge = [hsbc_df[[\"Date\", \"Balance\"]], sc_df[[\"Date\", \"Balance\"]]]\n",
    "\n",
    "merged_df = reduce(lambda x, y: pd.merge(x, y, on = 'Date', suffixes=(\"_HSBC\", \"_SC\")), dfs_to_merge)\n",
    "merged_df[\"Combined Balance\"] = merged_df[\"Balance_HSBC\"] + merged_df[\"Balance_SC\"]\n",
    "merged_df.head(5)"
   ]
  },
  {
   "cell_type": "code",
   "execution_count": null,
   "metadata": {},
   "outputs": [],
   "source": [
    "merged_df.to_csv(\"combined_statement.csv\", index=False, mode='w+')"
   ]
  }
 ],
 "metadata": {
  "kernelspec": {
   "display_name": "Python 3",
   "language": "python",
   "name": "python3"
  },
  "language_info": {
   "codemirror_mode": {
    "name": "ipython",
    "version": 3
   },
   "file_extension": ".py",
   "mimetype": "text/x-python",
   "name": "python",
   "nbconvert_exporter": "python",
   "pygments_lexer": "ipython3",
   "version": "3.10.4"
  }
 },
 "nbformat": 4,
 "nbformat_minor": 2
}
