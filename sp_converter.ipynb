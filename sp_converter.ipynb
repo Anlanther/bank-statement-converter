{
 "cells": [
  {
   "cell_type": "markdown",
   "id": "5b59b96d-593b-49ab-82e7-96733b6e0ad6",
   "metadata": {},
   "source": [
    "## Imports"
   ]
  },
  {
   "cell_type": "code",
   "execution_count": null,
   "id": "58034f18-4244-49b0-8bb0-529f12ad7247",
   "metadata": {},
   "outputs": [],
   "source": [
    "import pdfplumber\n",
    "import pandas as pd\n",
    "import numpy as np\n",
    "from datetime import datetime\n",
    "import os"
   ]
  },
  {
   "cell_type": "markdown",
   "id": "6599c5d7-803a-4229-9af1-ea18f79b1c4d",
   "metadata": {},
   "source": [
    "## Functions"
   ]
  },
  {
   "cell_type": "code",
   "execution_count": null,
   "id": "f8e4642f-cd96-462c-9dcc-b235adc2f535",
   "metadata": {},
   "outputs": [],
   "source": [
    "def get_date(str_date):\n",
    "    date = datetime.strptime(str_date, '%d-%b%Y')\n",
    "    return date\n",
    "\n",
    "def is_date(date):\n",
    "    try:\n",
    "        get_date(date)\n",
    "        return True\n",
    "    except ValueError:\n",
    "        return False\n",
    "\n",
    "def is_float(str_float):\n",
    "    try:\n",
    "        float(str_float)\n",
    "        if str_float[-3] == \".\":\n",
    "            return True\n",
    "        else:\n",
    "            return False\n",
    "    except ValueError:\n",
    "        return False"
   ]
  },
  {
   "cell_type": "code",
   "execution_count": null,
   "id": "3d28a287-afea-4f54-8073-8bb6eef75c5e",
   "metadata": {
    "tags": []
   },
   "outputs": [],
   "source": [
    "def enter_row_into_statement_dict(date, details, amount, balance):\n",
    "    global statement_dict\n",
    "    statement_dict[\"Date\"] += [date]\n",
    "    statement_dict[\"Transaction Details\"] += [details]\n",
    "    statement_dict[\"Amount\"] += [amount]\n",
    "    statement_dict[\"Balance\"] += [balance]\n",
    "    \n",
    "def clear_statement_dict():\n",
    "    global statement_dict\n",
    "    statement_dict[\"Date\"] = []\n",
    "    statement_dict[\"Transaction Details\"] = []\n",
    "    statement_dict[\"Amount\"] = []\n",
    "    statement_dict[\"Balance\"] = []\n",
    "    \n",
    "def clear_statement_globals():\n",
    "    global temp_row\n",
    "    temp_row[\"date\"] = \"\"\n",
    "    temp_row[\"balance\"] = \"\"\n",
    "    temp_row[\"amount\"] = \"\"\n",
    "    temp_row[\"details\"] = \"\""
   ]
  },
  {
   "cell_type": "code",
   "execution_count": null,
   "id": "241f4d29",
   "metadata": {},
   "outputs": [],
   "source": [
    "def adjust_year(line, invoice):\n",
    "    invoice_is_jan = \"-01.\" in invoice\n",
    "    line_has_dec = \"-Dec \" in line\n",
    "    line_has_no_date = is_date(line.split()[0])\n",
    "    year = invoice[invoice.find('/')+1:invoice.find('-')]\n",
    "\n",
    "    if invoice_is_jan and line_has_dec:\n",
    "        return line.replace(\"-Dec\", f\"-Dec{int(year) - 1}\")\n",
    "    elif line_has_no_date:\n",
    "        return line\n",
    "    else:\n",
    "        return f\"{line.split()[0] + year} {' '.join(line.split()[1:])}\""
   ]
  },
  {
   "cell_type": "code",
   "execution_count": null,
   "id": "382fb5e3",
   "metadata": {},
   "outputs": [],
   "source": [
    "def add_to_previous_details(items):\n",
    "    global temp_row\n",
    "    \n",
    "    temp_row[\"details\"] = temp_row[\"details\"] + \" \" + \" \".join(items)\n",
    "\n",
    "def add_row_to_dic(items, starts_with_date):\n",
    "    global temp_row\n",
    "\n",
    "    has_two_amounts = is_float(items[-2])\n",
    "    \n",
    "    if starts_with_date:\n",
    "        enter_row_into_statement_dict(temp_row[\"date\"], temp_row[\"details\"], temp_row[\"amount\"], temp_row[\"balance\"])\n",
    "        temp_row[\"date\"] = get_date(items[0])\n",
    "\n",
    "        if has_two_amounts:\n",
    "            temp_row[\"balance\"] = items[-1]\n",
    "            temp_row[\"amount\"] = items[-2]\n",
    "            temp_row[\"details\"] = \" \".join(items[1:-2])\n",
    "        else:\n",
    "            temp_row[\"amount\"] = items[-1]\n",
    "            temp_row[\"details\"] = \" \".join(items[1:-1])  \n",
    "    else:\n",
    "        enter_row_into_statement_dict(temp_row[\"date\"], temp_row[\"details\"], temp_row[\"amount\"], \"\")\n",
    " \n",
    "        if has_two_amounts:\n",
    "            temp_row[\"balance\"] = items[-1]\n",
    "            temp_row[\"amount\"] = items[-2]\n",
    "            temp_row[\"details\"] = \" \".join(items[0:-2])\n",
    "        else:\n",
    "            temp_row[\"amount\"] = items[-1]\n",
    "            temp_row[\"details\"] = \" \".join(items[0:-1])  \n",
    "\n",
    "def add_first_row_to_dic(items):\n",
    "    global temp_row\n",
    "\n",
    "    temp_row[\"date\"] = get_date(items[0])\n",
    "    temp_row[\"details\"] = \" \".join(items[1:-1])\n",
    "    temp_row[\"balance\"] = items[-1].replace(\",\",\"\")\n",
    "\n",
    "def prepare_statement_dict(statement, invoice):\n",
    "    for line in statement:\n",
    "        items = adjust_year(line, invoice).split()\n",
    "\n",
    "        last_item_is_number = is_float(items[-1])\n",
    "        details_entered_yet = temp_row[\"details\"] != \"\"\n",
    "        starts_with_date = is_date(items[0])\n",
    "\n",
    "        if starts_with_date and last_item_is_number and not details_entered_yet:\n",
    "            add_first_row_to_dic(items)\n",
    "        elif starts_with_date and last_item_is_number:\n",
    "            add_row_to_dic(items, True)\n",
    "        elif not starts_with_date and last_item_is_number:\n",
    "            add_row_to_dic(items, False)\n",
    "        elif not starts_with_date and not last_item_is_number:\n",
    "            add_to_previous_details(items)\n",
    "            \n",
    "    enter_row_into_statement_dict(temp_row[\"date\"], temp_row[\"details\"], \"\", temp_row[\"balance\"])\n"
   ]
  },
  {
   "cell_type": "code",
   "execution_count": null,
   "id": "7903a393-2391-4f6e-a89b-b667ca5dee80",
   "metadata": {},
   "outputs": [],
   "source": [
    "def get_statement(text):    \n",
    "    start = [i for i, s in enumerate(text.split(\"\\n\")) if 'B/F BALANCE' in s]\n",
    "    end = [i for i, s in enumerate(text.split(\"\\n\")) if 'C/F BALANCE' in s]\n",
    "\n",
    "    statement = [row.replace(\",\", \"\") for row in text.split(\"\\n\")[start[0]:end[0]+1]]\n",
    "    return statement"
   ]
  },
  {
   "cell_type": "code",
   "execution_count": null,
   "id": "c4fd504c-96c9-4b5f-80f9-86631fe4e0b9",
   "metadata": {},
   "outputs": [],
   "source": [
    "def convert(invoices):\n",
    "    global statement_dict\n",
    "    \n",
    "    for invoice in invoices:\n",
    "        with pdfplumber.open(invoice) as pdf:\n",
    "            page = pdf.pages[0]\n",
    "            text = page.extract_text(x_tolerance=1)\n",
    "\n",
    "        statement = get_statement(text)\n",
    "        prepare_statement_dict(statement, invoice)\n",
    "        clear_statement_globals()\n",
    "        \n",
    "    df = pd.DataFrame(statement_dict, columns= [\"Date\", \"Transaction Details\", \"Amount\", \"Balance\"])\n",
    "    return df"
   ]
  },
  {
   "cell_type": "markdown",
   "id": "5448b8d8-bcc9-4065-a754-a8c48a5b7e2a",
   "metadata": {},
   "source": [
    "## Global Variables"
   ]
  },
  {
   "cell_type": "code",
   "execution_count": null,
   "id": "0906a933-eb48-4666-8093-c990a5e51bc3",
   "metadata": {},
   "outputs": [],
   "source": [
    "statement_dict = {\n",
    "    \"Date\": [],\n",
    "    \"Transaction Details\": [], \n",
    "    \"Amount\": [],\n",
    "    \"Balance\": [] \n",
    "}"
   ]
  },
  {
   "cell_type": "code",
   "execution_count": null,
   "id": "32b0f8a0-c8a8-41a9-a532-93771df2bff0",
   "metadata": {},
   "outputs": [],
   "source": [
    "temp_row = {\n",
    "    \"date\": \"\",\n",
    "    \"balance\": \"\",\n",
    "    \"amount\": \"\",\n",
    "    \"details\": \"\"\n",
    "}"
   ]
  },
  {
   "cell_type": "markdown",
   "id": "1597ada1-c7fc-4ce7-997b-9144d1edf1b1",
   "metadata": {},
   "source": [
    "# =========================================="
   ]
  },
  {
   "cell_type": "markdown",
   "id": "6a9be31b-ebd5-48c7-9d0b-d751f6e24672",
   "metadata": {},
   "source": [
    "## START HERE"
   ]
  },
  {
   "cell_type": "code",
   "execution_count": null,
   "id": "feb46e2b-dde2-4731-a23d-6253e9f093f9",
   "metadata": {},
   "outputs": [],
   "source": [
    "# invoices = [f'statements/{string}'for string in os.listdir(f'{os.getcwd()}/statements') if string[0] != '.']\n",
    "invoices"
   ]
  },
  {
   "cell_type": "code",
   "execution_count": null,
   "id": "69617bcb-049d-437e-9297-da441c2028a7",
   "metadata": {
    "tags": []
   },
   "outputs": [],
   "source": [
    "df = convert(invoices).sort_values(by=\"Date\")"
   ]
  },
  {
   "cell_type": "code",
   "execution_count": null,
   "id": "ed4edd50-bf91-4b34-a531-76f7caeb9c15",
   "metadata": {},
   "outputs": [],
   "source": [
    "df.to_csv(\"statement.csv\", index=False, mode='w+')"
   ]
  },
  {
   "cell_type": "markdown",
   "id": "ce1edb9b-0410-4c68-b42c-e8a373488cf9",
   "metadata": {},
   "source": [
    "# =========================================="
   ]
  },
  {
   "cell_type": "markdown",
   "id": "189027ba-40b2-4379-b782-9ea701b0f94e",
   "metadata": {},
   "source": [
    "## Clean Up"
   ]
  },
  {
   "cell_type": "code",
   "execution_count": null,
   "id": "43547576-7641-401a-ac94-aa30e57cf2c1",
   "metadata": {},
   "outputs": [],
   "source": [
    "clear_statement_dict()"
   ]
  },
  {
   "cell_type": "code",
   "execution_count": null,
   "id": "320efcea",
   "metadata": {},
   "outputs": [],
   "source": []
  }
 ],
 "metadata": {
  "kernelspec": {
   "display_name": "Python 3.10.1 64-bit",
   "language": "python",
   "name": "python3"
  },
  "language_info": {
   "codemirror_mode": {
    "name": "ipython",
    "version": 3
   },
   "file_extension": ".py",
   "mimetype": "text/x-python",
   "name": "python",
   "nbconvert_exporter": "python",
   "pygments_lexer": "ipython3",
   "version": "3.10.1"
  },
  "vscode": {
   "interpreter": {
    "hash": "aee8b7b246df8f9039afb4144a1f6fd8d2ca17a180786b69acc140d282b71a49"
   }
  }
 },
 "nbformat": 4,
 "nbformat_minor": 5
}
