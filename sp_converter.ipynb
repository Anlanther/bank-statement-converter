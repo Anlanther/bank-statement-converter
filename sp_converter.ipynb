{
 "cells": [
  {
   "cell_type": "markdown",
   "id": "5b59b96d-593b-49ab-82e7-96733b6e0ad6",
   "metadata": {},
   "source": [
    "## Imports"
   ]
  },
  {
   "cell_type": "code",
   "execution_count": 1,
   "id": "58034f18-4244-49b0-8bb0-529f12ad7247",
   "metadata": {},
   "outputs": [],
   "source": [
    "import pdfplumber\n",
    "import pandas as pd\n",
    "import numpy as np\n",
    "from datetime import datetime"
   ]
  },
  {
   "cell_type": "markdown",
   "id": "6599c5d7-803a-4229-9af1-ea18f79b1c4d",
   "metadata": {},
   "source": [
    "## Functions"
   ]
  },
  {
   "cell_type": "code",
   "execution_count": 2,
   "id": "f8e4642f-cd96-462c-9dcc-b235adc2f535",
   "metadata": {},
   "outputs": [],
   "source": [
    "def get_date(str_date):\n",
    "    global year\n",
    "    date = datetime.strptime(str_date+year, '%d-%b%Y')\n",
    "    return date\n",
    "\n",
    "def is_date(date):\n",
    "    try:\n",
    "        get_date(date)\n",
    "        return True\n",
    "    except ValueError:\n",
    "        return False\n",
    "\n",
    "def is_float(str_float):\n",
    "    try:\n",
    "        float(str_float)\n",
    "        if str_float[-3] == \".\":\n",
    "            return True\n",
    "        else:\n",
    "            return False\n",
    "    except ValueError:\n",
    "        return False"
   ]
  },
  {
   "cell_type": "code",
   "execution_count": 3,
   "id": "3d28a287-afea-4f54-8073-8bb6eef75c5e",
   "metadata": {
    "tags": []
   },
   "outputs": [],
   "source": [
    "def enter_row_into_statement_dict(date, details, amount, balance):\n",
    "    global statement_dict\n",
    "    \n",
    "    statement_dict[\"Date\"] += [date]\n",
    "    statement_dict[\"Transaction Details\"] += [details]\n",
    "    statement_dict[\"Amount\"] += [amount]\n",
    "    statement_dict[\"Balance\"] += [balance]\n",
    "    \n",
    "def clear_statement_dict():\n",
    "    global statement_dict\n",
    "    statement_dict[\"Date\"] = []\n",
    "    statement_dict[\"Transaction Details\"] = []\n",
    "    statement_dict[\"Amount\"] = []\n",
    "    statement_dict[\"Balance\"] = []"
   ]
  },
  {
   "cell_type": "code",
   "execution_count": 4,
   "id": "99fefdcc-c31f-49bb-808c-ca4a9d74652a",
   "metadata": {
    "tags": []
   },
   "outputs": [],
   "source": [
    "def check_if_two_transactions(items):\n",
    "    global balance\n",
    "    global amount\n",
    "    global details\n",
    "    \n",
    "    second_item_is_number = is_float(items[-2])\n",
    "    \n",
    "    if second_item_is_number:\n",
    "        balance = items[-1]\n",
    "        amount = items[-2]\n",
    "        details = \" \".join(items[1:-2])\n",
    "    else:\n",
    "        amount = items[-1]\n",
    "        details = \" \".join(items[1:-1])\n",
    "    \n",
    "def check_if_new_transaction(items):\n",
    "    global date\n",
    "    global balance\n",
    "    global details\n",
    "    \n",
    "    last_item_is_number = is_float(items[-1])\n",
    "    details_exist = details != \"\"\n",
    "    starts_with_date = is_date(items[0])\n",
    "    \n",
    "    if last_item_is_number:\n",
    "        if details_exist:\n",
    "            if starts_with_date:\n",
    "                enter_row_into_statement_dict(date,details,amount,balance)\n",
    "                date = items[0]  \n",
    "                check_if_two_transactions(items)\n",
    "            \n",
    "            else:\n",
    "                enter_row_into_statement_dict(date, details, amount, \"\")\n",
    "                check_if_two_transactions(items)\n",
    "\n",
    "        else:\n",
    "            date = items[0]\n",
    "            details = \" \".join(items[1:-1])\n",
    "            balance = items[-1].replace(\",\",\"\")\n",
    "    else:\n",
    "        details = details + \" \" + \" \".join(items)\n",
    "    \n",
    "def transform_statement_to_df(statement):\n",
    "    for lines in statement:\n",
    "        row_items = lines.split()\n",
    "        check_if_new_transaction(row_items)\n",
    "        \n",
    "    enter_row_into_statement_dict(date,details,\"\",balance)\n",
    "    \n",
    "    df = pd.DataFrame(statement_dict, columns= [\"Date\", \"Transaction Details\", \"Amount\", \"Balance\"])\n",
    "    \n",
    "    return df"
   ]
  },
  {
   "cell_type": "code",
   "execution_count": 5,
   "id": "7903a393-2391-4f6e-a89b-b667ca5dee80",
   "metadata": {},
   "outputs": [],
   "source": [
    "def check_statement_for_dates(statement):\n",
    "    global year\n",
    "    \n",
    "    first_date = statement[0].split()[0]\n",
    "    last_date = statement[-1].split()[0]\n",
    "\n",
    "    if not(is_date(first_date) & is_date(last_date)):\n",
    "        print(\"Statement Dates not found\")\n",
    "        print(first_date)\n",
    "    else:\n",
    "        print(\"Statement date found = \", last_date, year, \"\\nPrev statement date = \", first_date, year)\n",
    "\n",
    "def get_statement(invoice, text):\n",
    "    global year\n",
    "    \n",
    "    year = invoice[invoice.find('/')+1:invoice.find('-')]\n",
    "    start = [i for i, s in enumerate(text.split(\"\\n\")) if 'B/F BALANCE' in s]\n",
    "    end = [i for i, s in enumerate(text.split(\"\\n\")) if 'C/F BALANCE' in s]\n",
    "\n",
    "    statement = [row.replace(\",\", \"\") for row in text.split(\"\\n\")[start[0]:end[0]+1]]\n",
    "    check_statement_for_dates(statement)\n",
    "    return statement"
   ]
  },
  {
   "cell_type": "code",
   "execution_count": 6,
   "id": "c4fd504c-96c9-4b5f-80f9-86631fe4e0b9",
   "metadata": {},
   "outputs": [],
   "source": [
    "def convert(invoice):\n",
    "    with pdfplumber.open(invoice) as pdf:\n",
    "        page = pdf.pages[0]\n",
    "        text = page.extract_text(x_tolerance=1)\n",
    "        \n",
    "    statement = get_statement(invoice, text)\n",
    "    return transform_statement_to_df(statement)"
   ]
  },
  {
   "cell_type": "markdown",
   "id": "5448b8d8-bcc9-4065-a754-a8c48a5b7e2a",
   "metadata": {},
   "source": [
    "## Global Variables"
   ]
  },
  {
   "cell_type": "code",
   "execution_count": 7,
   "id": "66439f4c-5fc0-4e28-865d-b30236da2322",
   "metadata": {},
   "outputs": [],
   "source": [
    "year = \"\""
   ]
  },
  {
   "cell_type": "code",
   "execution_count": 8,
   "id": "0906a933-eb48-4666-8093-c990a5e51bc3",
   "metadata": {},
   "outputs": [],
   "source": [
    "statement_dict = {\n",
    "    \"Date\": [],\n",
    "    \"Transaction Details\": [], \n",
    "    \"Amount\": [],\n",
    "    \"Balance\": [] \n",
    "}"
   ]
  },
  {
   "cell_type": "code",
   "execution_count": 9,
   "id": "32b0f8a0-c8a8-41a9-a532-93771df2bff0",
   "metadata": {},
   "outputs": [],
   "source": [
    "date = \"\"\n",
    "balance = \"\"\n",
    "amount = \"\"\n",
    "details = \"\""
   ]
  },
  {
   "cell_type": "markdown",
   "id": "1597ada1-c7fc-4ce7-997b-9144d1edf1b1",
   "metadata": {},
   "source": [
    "# =========================================="
   ]
  },
  {
   "cell_type": "markdown",
   "id": "6a9be31b-ebd5-48c7-9d0b-d751f6e24672",
   "metadata": {},
   "source": [
    "## START HERE"
   ]
  },
  {
   "cell_type": "code",
   "execution_count": 10,
   "id": "feb46e2b-dde2-4731-a23d-6253e9f093f9",
   "metadata": {},
   "outputs": [],
   "source": [
    "invoice = 'statements/2020-08.pdf'"
   ]
  },
  {
   "cell_type": "code",
   "execution_count": 11,
   "id": "69617bcb-049d-437e-9297-da441c2028a7",
   "metadata": {
    "tags": []
   },
   "outputs": [
    {
     "name": "stdout",
     "output_type": "stream",
     "text": [
      "Statement date found =  12-Aug 2020 \n",
      "Prev statement date =  11-Jul 2020\n"
     ]
    },
    {
     "data": {
      "text/html": [
       "<div>\n",
       "<style scoped>\n",
       "    .dataframe tbody tr th:only-of-type {\n",
       "        vertical-align: middle;\n",
       "    }\n",
       "\n",
       "    .dataframe tbody tr th {\n",
       "        vertical-align: top;\n",
       "    }\n",
       "\n",
       "    .dataframe thead th {\n",
       "        text-align: right;\n",
       "    }\n",
       "</style>\n",
       "<table border=\"1\" class=\"dataframe\">\n",
       "  <thead>\n",
       "    <tr style=\"text-align: right;\">\n",
       "      <th></th>\n",
       "      <th>Date</th>\n",
       "      <th>Transaction Details</th>\n",
       "      <th>Amount</th>\n",
       "      <th>Balance</th>\n",
       "    </tr>\n",
       "  </thead>\n",
       "  <tbody>\n",
       "    <tr>\n",
       "      <th>0</th>\n",
       "      <td>11-Jul</td>\n",
       "      <td>2020 B/F BALANCE</td>\n",
       "      <td></td>\n",
       "      <td>77817.48</td>\n",
       "    </tr>\n",
       "    <tr>\n",
       "      <th>1</th>\n",
       "      <td>20-Jul</td>\n",
       "      <td>TO PAYME(HSBC) T2007188F952(18JUL20)</td>\n",
       "      <td>90.00</td>\n",
       "      <td></td>\n",
       "    </tr>\n",
       "    <tr>\n",
       "      <th>2</th>\n",
       "      <td>20-Jul</td>\n",
       "      <td>PAYME(HSBC) T200720A7536(20JUL20)</td>\n",
       "      <td>560.00</td>\n",
       "      <td>77167.48</td>\n",
       "    </tr>\n",
       "    <tr>\n",
       "      <th>3</th>\n",
       "      <td>23-Jul</td>\n",
       "      <td>FROM WEARNE JEREMY R N72399865235(23JUL20)</td>\n",
       "      <td>1680.00</td>\n",
       "      <td>78847.48</td>\n",
       "    </tr>\n",
       "    <tr>\n",
       "      <th>4</th>\n",
       "      <td>24-Jul</td>\n",
       "      <td>CHAN J**** HC12072460325323 24JUL</td>\n",
       "      <td>400.00</td>\n",
       "      <td></td>\n",
       "    </tr>\n",
       "    <tr>\n",
       "      <th>5</th>\n",
       "      <td>24-Jul</td>\n",
       "      <td>PAYME(HSBC) T200724GP139(24JUL20)</td>\n",
       "      <td>560.00</td>\n",
       "      <td>77887.48</td>\n",
       "    </tr>\n",
       "    <tr>\n",
       "      <th>6</th>\n",
       "      <td>28-Jul</td>\n",
       "      <td>CREDIT CARD PAYMENT 4966040127767358</td>\n",
       "      <td>838.10</td>\n",
       "      <td></td>\n",
       "    </tr>\n",
       "    <tr>\n",
       "      <th>7</th>\n",
       "      <td>28-Jul</td>\n",
       "      <td>INTEREST</td>\n",
       "      <td>0.06</td>\n",
       "      <td>77049.44</td>\n",
       "    </tr>\n",
       "    <tr>\n",
       "      <th>8</th>\n",
       "      <td>31-Jul</td>\n",
       "      <td>CHAN J**** HC12073163993770 31JUL</td>\n",
       "      <td>137.00</td>\n",
       "      <td>76912.44</td>\n",
       "    </tr>\n",
       "    <tr>\n",
       "      <th>9</th>\n",
       "      <td>1-Aug</td>\n",
       "      <td>TO PAYME(HSBC) T200801TG146(01AUG20)</td>\n",
       "      <td>560.00</td>\n",
       "      <td></td>\n",
       "    </tr>\n",
       "    <tr>\n",
       "      <th>10</th>\n",
       "      <td>1-Aug</td>\n",
       "      <td>PAYME(HSBC) T200801TG460(01AUG20)</td>\n",
       "      <td>700.00</td>\n",
       "      <td>75652.44</td>\n",
       "    </tr>\n",
       "    <tr>\n",
       "      <th>11</th>\n",
       "      <td>3-Aug</td>\n",
       "      <td>CHAN J**** HC12080365958597 03AUG</td>\n",
       "      <td>45.00</td>\n",
       "      <td>75607.44</td>\n",
       "    </tr>\n",
       "    <tr>\n",
       "      <th>12</th>\n",
       "      <td>5-Aug</td>\n",
       "      <td>ATM WITHDRAWAL (05AUG20)</td>\n",
       "      <td>400.00</td>\n",
       "      <td>75207.44</td>\n",
       "    </tr>\n",
       "    <tr>\n",
       "      <th>13</th>\n",
       "      <td>6-Aug</td>\n",
       "      <td>TO PAYME(HSBC) T20080645181(06AUG20)</td>\n",
       "      <td>910.00</td>\n",
       "      <td>74297.44</td>\n",
       "    </tr>\n",
       "    <tr>\n",
       "      <th>14</th>\n",
       "      <td>10-Aug</td>\n",
       "      <td>CASH DEPOSIT (08AUG20)</td>\n",
       "      <td>2500.00</td>\n",
       "      <td></td>\n",
       "    </tr>\n",
       "    <tr>\n",
       "      <th>15</th>\n",
       "      <td>10-Aug</td>\n",
       "      <td>(10AUG20) GAME AMAZING</td>\n",
       "      <td>350.00</td>\n",
       "      <td>76447.44</td>\n",
       "    </tr>\n",
       "    <tr>\n",
       "      <th>16</th>\n",
       "      <td>11-Aug</td>\n",
       "      <td>MISS CHAN JOYCE HC12081070055791 10AUG</td>\n",
       "      <td>100.00</td>\n",
       "      <td>76547.44</td>\n",
       "    </tr>\n",
       "    <tr>\n",
       "      <th>17</th>\n",
       "      <td>12-Aug</td>\n",
       "      <td>C/F BALANCE</td>\n",
       "      <td></td>\n",
       "      <td>76547.44</td>\n",
       "    </tr>\n",
       "  </tbody>\n",
       "</table>\n",
       "</div>"
      ],
      "text/plain": [
       "      Date                         Transaction Details   Amount   Balance\n",
       "0   11-Jul                            2020 B/F BALANCE           77817.48\n",
       "1   20-Jul        TO PAYME(HSBC) T2007188F952(18JUL20)    90.00          \n",
       "2   20-Jul           PAYME(HSBC) T200720A7536(20JUL20)   560.00  77167.48\n",
       "3   23-Jul  FROM WEARNE JEREMY R N72399865235(23JUL20)  1680.00  78847.48\n",
       "4   24-Jul           CHAN J**** HC12072460325323 24JUL   400.00          \n",
       "5   24-Jul           PAYME(HSBC) T200724GP139(24JUL20)   560.00  77887.48\n",
       "6   28-Jul        CREDIT CARD PAYMENT 4966040127767358   838.10          \n",
       "7   28-Jul                                    INTEREST     0.06  77049.44\n",
       "8   31-Jul           CHAN J**** HC12073163993770 31JUL   137.00  76912.44\n",
       "9    1-Aug        TO PAYME(HSBC) T200801TG146(01AUG20)   560.00          \n",
       "10   1-Aug           PAYME(HSBC) T200801TG460(01AUG20)   700.00  75652.44\n",
       "11   3-Aug           CHAN J**** HC12080365958597 03AUG    45.00  75607.44\n",
       "12   5-Aug                    ATM WITHDRAWAL (05AUG20)   400.00  75207.44\n",
       "13   6-Aug        TO PAYME(HSBC) T20080645181(06AUG20)   910.00  74297.44\n",
       "14  10-Aug                      CASH DEPOSIT (08AUG20)  2500.00          \n",
       "15  10-Aug                      (10AUG20) GAME AMAZING   350.00  76447.44\n",
       "16  11-Aug      MISS CHAN JOYCE HC12081070055791 10AUG   100.00  76547.44\n",
       "17  12-Aug                                 C/F BALANCE           76547.44"
      ]
     },
     "execution_count": 11,
     "metadata": {},
     "output_type": "execute_result"
    }
   ],
   "source": [
    "convert(invoice)"
   ]
  },
  {
   "cell_type": "markdown",
   "id": "ce1edb9b-0410-4c68-b42c-e8a373488cf9",
   "metadata": {},
   "source": [
    "# =========================================="
   ]
  },
  {
   "cell_type": "markdown",
   "id": "189027ba-40b2-4379-b782-9ea701b0f94e",
   "metadata": {},
   "source": [
    "## Clean Up"
   ]
  },
  {
   "cell_type": "code",
   "execution_count": 12,
   "id": "43547576-7641-401a-ac94-aa30e57cf2c1",
   "metadata": {},
   "outputs": [
    {
     "data": {
      "text/plain": [
       "{'Date': [], 'Transaction Details': [], 'Amount': [], 'Balance': []}"
      ]
     },
     "execution_count": 12,
     "metadata": {},
     "output_type": "execute_result"
    }
   ],
   "source": [
    "clear_statement_dict()\n",
    "statement_dict"
   ]
  },
  {
   "cell_type": "code",
   "execution_count": null,
   "id": "cbadc380-e81d-4531-906e-fda87a9e8ef9",
   "metadata": {},
   "outputs": [],
   "source": []
  }
 ],
 "metadata": {
  "kernelspec": {
   "display_name": "Python 3 (ipykernel)",
   "language": "python",
   "name": "python3"
  },
  "language_info": {
   "codemirror_mode": {
    "name": "ipython",
    "version": 3
   },
   "file_extension": ".py",
   "mimetype": "text/x-python",
   "name": "python",
   "nbconvert_exporter": "python",
   "pygments_lexer": "ipython3",
   "version": "3.9.7"
  }
 },
 "nbformat": 4,
 "nbformat_minor": 5
}
