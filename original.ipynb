{
 "cells": [
  {
   "cell_type": "code",
   "execution_count": 1,
   "id": "8193f931-a2e0-4d6d-95fd-94c1c424c17f",
   "metadata": {
    "colab": {
     "base_uri": "https://localhost:8080/",
     "height": 383
    },
    "id": "8193f931-a2e0-4d6d-95fd-94c1c424c17f",
    "outputId": "61ec1c3e-6eb1-4d02-839b-42105bc286c5"
   },
   "outputs": [],
   "source": [
    "import pdfplumber\n",
    "import pandas as pd\n",
    "import numpy as np\n",
    "from datetime import datetime"
   ]
  },
  {
   "cell_type": "code",
   "execution_count": 2,
   "id": "VsrB8x3dtWel",
   "metadata": {
    "id": "VsrB8x3dtWel"
   },
   "outputs": [],
   "source": [
    "# functions\n",
    "def get_date(str_date):\n",
    "    date = datetime.strptime(str_date+year, '%d-%b%Y')\n",
    "    print(\"hello\", date)\n",
    "    return date\n",
    "\n",
    "def is_date(date):\n",
    "    try:\n",
    "        get_date(date)\n",
    "        return True\n",
    "    except ValueError:\n",
    "        return False\n",
    "\n",
    "def is_float(str_float):\n",
    "    try:\n",
    "        float(str_float)\n",
    "        if str_float[-3] == \".\":\n",
    "            return True\n",
    "        else:\n",
    "            return False\n",
    "    except ValueError:\n",
    "        return False\n",
    "\n",
    "def get_amount():\n",
    "    text[text.find(first_date):].split(\"\\n\")[0].split()[-1].replace(\",\",\"\")\n",
    "\n",
    "def enter_row(statement_dict,date,details,amount,balance):\n",
    "    statement_dict[\"Date\"].append(date)\n",
    "    statement_dict[\"Transaction Details\"].append(details)\n",
    "    statement_dict[\"Amount\"].append(amount)\n",
    "    statement_dict[\"Balance\"].append(balance)\n",
    "    return statement_dict\n",
    "\n",
    "def create_statement_dict():\n",
    "    #create dictionary to hold temp values\n",
    "    statement_dict= {\n",
    "        \"Date\": [], \n",
    "        \"Transaction Details\": [], \n",
    "        \"Amount\": [],\n",
    "        \"Balance\": [] \n",
    "    }\n",
    "    statement_dict[\"Date\"] = []\n",
    "    statement_dict[\"Transaction Details\"] = []\n",
    "    statement_dict[\"Amount\"] = []\n",
    "    statement_dict[\"Balance\"] = []\n",
    "    return statement_dict\n",
    "\n",
    "def transform_statement_to_df(statement):\n",
    "    statement_dict = create_statement_dict()\n",
    "    \n",
    "    date = \"\"\n",
    "    balance = \"\"\n",
    "    amount = \"\"\n",
    "    details = \"\"\n",
    "\n",
    "    for lines in statement:\n",
    "        items= lines.split()\n",
    "        if is_float(items[-1].replace(\",\",\"\")): #check if is not a new row of transaction details\n",
    "            if details != \"\":\n",
    "                if is_date(items[0]): #check if has date \n",
    "                    statement_dict = enter_row(statement_dict,date,details,amount,balance) #if so enter last row with balance\n",
    "                    date = items[0] #reset date\n",
    "                    if is_float(items[-2].replace(\",\",\"\")): #check how many numeric there are\n",
    "                        balance = items[-1].replace(\",\",\"\") # if two then separate balance and amount\n",
    "                        amount = items[-2].replace(\",\",\"\")\n",
    "                        details = \" \".join(items[1:-2])\n",
    "                    else:\n",
    "                        amount = items[-1].replace(\",\",\"\") # if only one then is amount\n",
    "                        details = \" \".join(items[1:-1])\n",
    "                else: # if doesnt start with date\n",
    "                    statement_dict = enter_row(statement_dict,date,details,amount,\"\") #enter prev row without updating balance\n",
    "                    if is_float(items[-2].replace(\",\",\"\")): #check how many numeric there are\n",
    "                        balance = items[-1].replace(\",\",\"\") # if two then separate balance and amount\n",
    "                        amount = items[-2].replace(\",\",\"\")\n",
    "                        details = \" \".join(items[:-2])\n",
    "                    else:\n",
    "                        amount = items[-1].replace(\",\",\"\") # if only one then is amount\n",
    "                        details = \" \".join(items[:-1])\n",
    "            else: \n",
    "                date = items[0]\n",
    "                details = \" \".join(items[1:-1])\n",
    "                balance = items[-1].replace(\",\",\"\")\n",
    "        else:\n",
    "            details = details + \" \" + \" \".join(items)\n",
    "    statement_dict = enter_row(statement_dict,date,details,\"\",balance)\n",
    "\n",
    "    #put into df\n",
    "    df = pd.DataFrame(statement_dict, columns= [\"Date\", \"Transaction Details\", \"Amount\", \"Balance\"])\n",
    "    return df\n",
    "\n",
    "def export_as_csv(df):\n",
    "    df.to_csv(\"Statement \"+str(get_date(last_date)).split()[0]+\".csv\", index=False)\n"
   ]
  },
  {
   "cell_type": "code",
   "execution_count": 3,
   "id": "58aa5246-52f9-4fac-a4e2-a3613d796adf",
   "metadata": {},
   "outputs": [],
   "source": [
    "# 1) Enter Invoice path, name formatting should be provided in 'statements/yyyy-mm.pdf' to work\n",
    "invoice = 'statements/2016-06.pdf'\n",
    "#read invoice pdf \n",
    "with pdfplumber.open(invoice) as pdf:\n",
    "    page = pdf.pages[0]\n",
    "    text = page.extract_text(x_tolerance=1)"
   ]
  },
  {
   "cell_type": "code",
   "execution_count": 4,
   "id": "knUxF3utWA7n",
   "metadata": {
    "id": "knUxF3utWA7n"
   },
   "outputs": [
    {
     "name": "stdout",
     "output_type": "stream",
     "text": [
      "hello 2016-04-12 00:00:00\n",
      "hello 2016-06-11 00:00:00\n",
      "Statement date found =  11-Jun 2016 \n",
      "Prev statement date =  12-Apr 2016\n"
     ]
    }
   ],
   "source": [
    "# 2) run to check if statement is read with no errors and shows correct general details\n",
    "year = invoice[invoice.find('/')+1:invoice.find('-')]\n",
    "\n",
    "start = [i for i, s in enumerate(text.split(\"\\n\")) if 'B/F BALANCE' in s]\n",
    "end = [i for i, s in enumerate(text.split(\"\\n\")) if 'C/F BALANCE' in s]\n",
    "statement= text.split(\"\\n\")[start[0]:end[0]+1]\n",
    "\n",
    "first_date = statement[0].split()[0]\n",
    "last_date = statement[-1].split()[0]\n",
    "\n",
    "if not(is_date(first_date) & is_date(last_date)):\n",
    "    print(\"Statement Dates not found\")\n",
    "print(\"Statement date found = \", last_date, year, \"\\nPrev statement date = \",first_date, year)"
   ]
  },
  {
   "cell_type": "code",
   "execution_count": 5,
   "id": "2cf0cdf8-88d7-46fd-8636-942191480b18",
   "metadata": {},
   "outputs": [
    {
     "name": "stdout",
     "output_type": "stream",
     "text": [
      "hello 2016-05-20 00:00:00\n",
      "hello 2016-06-06 00:00:00\n",
      "hello 2016-06-11 00:00:00\n",
      "Statement 11-Jun 2016\n"
     ]
    },
    {
     "data": {
      "text/html": [
       "<div>\n",
       "<style scoped>\n",
       "    .dataframe tbody tr th:only-of-type {\n",
       "        vertical-align: middle;\n",
       "    }\n",
       "\n",
       "    .dataframe tbody tr th {\n",
       "        vertical-align: top;\n",
       "    }\n",
       "\n",
       "    .dataframe thead th {\n",
       "        text-align: right;\n",
       "    }\n",
       "</style>\n",
       "<table border=\"1\" class=\"dataframe\">\n",
       "  <thead>\n",
       "    <tr style=\"text-align: right;\">\n",
       "      <th></th>\n",
       "      <th>Date</th>\n",
       "      <th>Transaction Details</th>\n",
       "      <th>Amount</th>\n",
       "      <th>Balance</th>\n",
       "    </tr>\n",
       "  </thead>\n",
       "  <tbody>\n",
       "    <tr>\n",
       "      <th>0</th>\n",
       "      <td>12-Apr</td>\n",
       "      <td>2016 B/F BALANCE</td>\n",
       "      <td></td>\n",
       "      <td>5887.70</td>\n",
       "    </tr>\n",
       "    <tr>\n",
       "      <th>1</th>\n",
       "      <td>20-May</td>\n",
       "      <td>CASH DEPOSIT (20MAY16)</td>\n",
       "      <td>400.00</td>\n",
       "      <td></td>\n",
       "    </tr>\n",
       "    <tr>\n",
       "      <th>2</th>\n",
       "      <td>20-May</td>\n",
       "      <td>ATM WITHDRAWAL (20MAY16)</td>\n",
       "      <td>500.00</td>\n",
       "      <td></td>\n",
       "    </tr>\n",
       "    <tr>\n",
       "      <th>3</th>\n",
       "      <td>20-May</td>\n",
       "      <td>ATM WITHDRAWAL (20MAY16)</td>\n",
       "      <td>3500.00</td>\n",
       "      <td>2287.70</td>\n",
       "    </tr>\n",
       "    <tr>\n",
       "      <th>4</th>\n",
       "      <td>6-Jun</td>\n",
       "      <td>CASH DEPOSIT (05JUN16)</td>\n",
       "      <td>2500.00</td>\n",
       "      <td>4787.70</td>\n",
       "    </tr>\n",
       "    <tr>\n",
       "      <th>5</th>\n",
       "      <td>11-Jun</td>\n",
       "      <td>C/F BALANCE</td>\n",
       "      <td></td>\n",
       "      <td>4787.70</td>\n",
       "    </tr>\n",
       "  </tbody>\n",
       "</table>\n",
       "</div>"
      ],
      "text/plain": [
       "     Date       Transaction Details   Amount  Balance\n",
       "0  12-Apr          2016 B/F BALANCE           5887.70\n",
       "1  20-May    CASH DEPOSIT (20MAY16)   400.00         \n",
       "2  20-May  ATM WITHDRAWAL (20MAY16)   500.00         \n",
       "3  20-May  ATM WITHDRAWAL (20MAY16)  3500.00  2287.70\n",
       "4   6-Jun    CASH DEPOSIT (05JUN16)  2500.00  4787.70\n",
       "5  11-Jun               C/F BALANCE           4787.70"
      ]
     },
     "execution_count": 5,
     "metadata": {},
     "output_type": "execute_result"
    }
   ],
   "source": [
    "# 3) run to get statement in dataframe format\n",
    "dataframe = transform_statement_to_df(statement)\n",
    "print(\"Statement\", last_date, year)\n",
    "dataframe\n",
    "\n",
    "# 4) Optional export as csv\n",
    "# export_as_csv(dataframe)"
   ]
  },
  {
   "cell_type": "code",
   "execution_count": null,
   "id": "e4f58c0b-c0d1-47e0-b32d-75db45a0adea",
   "metadata": {},
   "outputs": [],
   "source": []
  },
  {
   "cell_type": "markdown",
   "id": "7v__XrcG38yp",
   "metadata": {
    "id": "7v__XrcG38yp"
   },
   "source": [
    "Rules followed when transforming statement:\n",
    "- steps check if ends in number \n",
    "- if no number then simply update details\n",
    "- if end in number\n",
    "- check if starts with date\n",
    "- if not starts with date upload only the description and date then update only description\n",
    "- if starts with date update balance with amount and upload with balance update the date and balance with the amt above\n",
    "- diffrentiate for is amount if next line doesnt start with date, or if next line starts with date the second last is amount\n"
   ]
  },
  {
   "cell_type": "code",
   "execution_count": null,
   "id": "8c26b9d2-afb1-4e49-a16e-06798d3b3559",
   "metadata": {
    "id": "8c26b9d2-afb1-4e49-a16e-06798d3b3559"
   },
   "outputs": [],
   "source": []
  },
  {
   "cell_type": "code",
   "execution_count": null,
   "id": "e1a52b79-e2ba-479b-8cd1-ddc927874cac",
   "metadata": {
    "id": "e1a52b79-e2ba-479b-8cd1-ddc927874cac"
   },
   "outputs": [],
   "source": []
  }
 ],
 "metadata": {
  "colab": {
   "collapsed_sections": [],
   "provenance": []
  },
  "kernelspec": {
   "display_name": "Python 3 (ipykernel)",
   "language": "python",
   "name": "python3"
  },
  "language_info": {
   "codemirror_mode": {
    "name": "ipython",
    "version": 3
   },
   "file_extension": ".py",
   "mimetype": "text/x-python",
   "name": "python",
   "nbconvert_exporter": "python",
   "pygments_lexer": "ipython3",
   "version": "3.9.7"
  }
 },
 "nbformat": 4,
 "nbformat_minor": 5
}
