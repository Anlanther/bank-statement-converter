{
 "cells": [
  {
   "cell_type": "markdown",
   "id": "5b59b96d-593b-49ab-82e7-96733b6e0ad6",
   "metadata": {},
   "source": [
    "## Imports"
   ]
  },
  {
   "cell_type": "code",
   "execution_count": null,
   "id": "58034f18-4244-49b0-8bb0-529f12ad7247",
   "metadata": {},
   "outputs": [],
   "source": [
    "import pdfplumber\n",
    "import pandas as pd\n",
    "import numpy as np\n",
    "from datetime import datetime\n",
    "import os"
   ]
  },
  {
   "cell_type": "markdown",
   "id": "6599c5d7-803a-4229-9af1-ea18f79b1c4d",
   "metadata": {},
   "source": [
    "## Functions"
   ]
  },
  {
   "cell_type": "code",
   "execution_count": null,
   "id": "f8e4642f-cd96-462c-9dcc-b235adc2f535",
   "metadata": {},
   "outputs": [],
   "source": [
    "def get_date(str_date):\n",
    "    global year\n",
    "    date = datetime.strptime(str_date+year, '%d-%b%Y')\n",
    "    return date\n",
    "\n",
    "def is_date(date):\n",
    "    try:\n",
    "        get_date(date)\n",
    "        return True\n",
    "    except ValueError:\n",
    "        return False\n",
    "\n",
    "def is_float(str_float):\n",
    "    try:\n",
    "        float(str_float)\n",
    "        if str_float[-3] == \".\":\n",
    "            return True\n",
    "        else:\n",
    "            return False\n",
    "    except ValueError:\n",
    "        return False"
   ]
  },
  {
   "cell_type": "code",
   "execution_count": null,
   "id": "3d28a287-afea-4f54-8073-8bb6eef75c5e",
   "metadata": {
    "tags": []
   },
   "outputs": [],
   "source": [
    "def enter_row_into_statement_dict(date, details, amount, balance):\n",
    "    global statement_dict\n",
    "    \n",
    "    statement_dict[\"Date\"] += [date]\n",
    "    statement_dict[\"Transaction Details\"] += [details]\n",
    "    statement_dict[\"Amount\"] += [amount]\n",
    "    statement_dict[\"Balance\"] += [balance]\n",
    "    \n",
    "def clear_statement_dict():\n",
    "    global statement_dict\n",
    "    statement_dict[\"Date\"] = []\n",
    "    statement_dict[\"Transaction Details\"] = []\n",
    "    statement_dict[\"Amount\"] = []\n",
    "    statement_dict[\"Balance\"] = []\n",
    "    \n",
    "def clear_statement_globals():\n",
    "    global balance\n",
    "    global amount\n",
    "    global details\n",
    "    global date\n",
    "    \n",
    "    date = \"\"\n",
    "    balance = \"\"\n",
    "    amount = \"\"\n",
    "    details = \"\""
   ]
  },
  {
   "cell_type": "code",
   "execution_count": null,
   "id": "99fefdcc-c31f-49bb-808c-ca4a9d74652a",
   "metadata": {
    "tags": []
   },
   "outputs": [],
   "source": [
    "def check_if_two_transactions(items):\n",
    "    global balance\n",
    "    global amount\n",
    "    global details\n",
    "    \n",
    "    second_item_is_number = is_float(items[-2])\n",
    "    \n",
    "    if second_item_is_number:\n",
    "        balance = items[-1]\n",
    "        amount = items[-2]\n",
    "        details = \" \".join(items[1:-2])\n",
    "    else:\n",
    "        amount = items[-1]\n",
    "        details = \" \".join(items[1:-1])\n",
    "    \n",
    "def check_if_new_transaction(items):\n",
    "    global date\n",
    "    global balance\n",
    "    global details\n",
    "    global amount\n",
    "    \n",
    "    last_item_is_number = is_float(items[-1])\n",
    "    details_exist = details != \"\"\n",
    "    starts_with_date = is_date(items[0])\n",
    "    \n",
    "    if last_item_is_number:\n",
    "        if details_exist:\n",
    "            if starts_with_date:\n",
    "                enter_row_into_statement_dict(date,details,amount,balance)\n",
    "                date = get_date(items[0])  \n",
    "                check_if_two_transactions(items)\n",
    "            \n",
    "            else:\n",
    "                enter_row_into_statement_dict(date, details, amount, \"\")\n",
    "                check_if_two_transactions(items)\n",
    "\n",
    "        else:\n",
    "            date = get_date(items[0])\n",
    "            details = \" \".join(items[1:-1])\n",
    "            balance = items[-1].replace(\",\",\"\")\n",
    "    else:\n",
    "        details = details + \" \" + \" \".join(items)\n",
    "    \n",
    "def prepare_statement_dict(statement):\n",
    "    for lines in statement:\n",
    "        row_items = lines.split()\n",
    "        check_if_new_transaction(row_items)\n",
    "        \n",
    "    enter_row_into_statement_dict(date,details,\"\",balance)"
   ]
  },
  {
   "cell_type": "code",
   "execution_count": null,
   "id": "7903a393-2391-4f6e-a89b-b667ca5dee80",
   "metadata": {},
   "outputs": [],
   "source": [
    "def check_statement_for_dates(statement):\n",
    "    global year\n",
    "    \n",
    "    first_date = statement[0].split()[0]\n",
    "    last_date = statement[-1].split()[0]\n",
    "\n",
    "    if not(is_date(first_date) & is_date(last_date)):\n",
    "        print(\"Statement Dates not found\")\n",
    "        print(first_date)\n",
    "\n",
    "def get_statement(invoice, text):\n",
    "    global year\n",
    "    \n",
    "    year = invoice[invoice.find('/')+1:invoice.find('-')]\n",
    "    start = [i for i, s in enumerate(text.split(\"\\n\")) if 'B/F BALANCE' in s]\n",
    "    end = [i for i, s in enumerate(text.split(\"\\n\")) if 'C/F BALANCE' in s]\n",
    "\n",
    "    statement = [row.replace(\",\", \"\") for row in text.split(\"\\n\")[start[0]:end[0]+1]]\n",
    "    check_statement_for_dates(statement)\n",
    "    return statement"
   ]
  },
  {
   "cell_type": "code",
   "execution_count": null,
   "id": "c4fd504c-96c9-4b5f-80f9-86631fe4e0b9",
   "metadata": {},
   "outputs": [],
   "source": [
    "def convert(invoices):\n",
    "    global statement_dict\n",
    "    \n",
    "    for invoice in invoices:\n",
    "        with pdfplumber.open(invoice) as pdf:\n",
    "            page = pdf.pages[0]\n",
    "            text = page.extract_text(x_tolerance=1)\n",
    "\n",
    "        statement = get_statement(invoice, text)\n",
    "        prepare_statement_dict(statement)\n",
    "        clear_statement_globals()\n",
    "        \n",
    "    df = pd.DataFrame(statement_dict, columns= [\"Date\", \"Transaction Details\", \"Amount\", \"Balance\"])\n",
    "    return df"
   ]
  },
  {
   "cell_type": "markdown",
   "id": "5448b8d8-bcc9-4065-a754-a8c48a5b7e2a",
   "metadata": {},
   "source": [
    "## Global Variables"
   ]
  },
  {
   "cell_type": "code",
   "execution_count": null,
   "id": "66439f4c-5fc0-4e28-865d-b30236da2322",
   "metadata": {},
   "outputs": [],
   "source": [
    "year = \"\""
   ]
  },
  {
   "cell_type": "code",
   "execution_count": null,
   "id": "0906a933-eb48-4666-8093-c990a5e51bc3",
   "metadata": {},
   "outputs": [],
   "source": [
    "statement_dict = {\n",
    "    \"Date\": [],\n",
    "    \"Transaction Details\": [], \n",
    "    \"Amount\": [],\n",
    "    \"Balance\": [] \n",
    "}"
   ]
  },
  {
   "cell_type": "code",
   "execution_count": null,
   "id": "32b0f8a0-c8a8-41a9-a532-93771df2bff0",
   "metadata": {},
   "outputs": [],
   "source": [
    "date = \"\"\n",
    "balance = \"\"\n",
    "amount = \"\"\n",
    "details = \"\""
   ]
  },
  {
   "cell_type": "markdown",
   "id": "1597ada1-c7fc-4ce7-997b-9144d1edf1b1",
   "metadata": {},
   "source": [
    "# =========================================="
   ]
  },
  {
   "cell_type": "markdown",
   "id": "6a9be31b-ebd5-48c7-9d0b-d751f6e24672",
   "metadata": {},
   "source": [
    "## START HERE"
   ]
  },
  {
   "cell_type": "code",
   "execution_count": null,
   "id": "feb46e2b-dde2-4731-a23d-6253e9f093f9",
   "metadata": {},
   "outputs": [],
   "source": [
    "invoices = [f'statements/{string}'for string in os.listdir(f'{os.getcwd()}/statements') if string[0] != '.']\n",
    "invoices"
   ]
  },
  {
   "cell_type": "code",
   "execution_count": null,
   "id": "69617bcb-049d-437e-9297-da441c2028a7",
   "metadata": {
    "tags": []
   },
   "outputs": [],
   "source": [
    "df = convert(invoices).sort_values(by=\"Date\")"
   ]
  },
  {
   "cell_type": "code",
   "execution_count": null,
   "id": "ed4edd50-bf91-4b34-a531-76f7caeb9c15",
   "metadata": {},
   "outputs": [],
   "source": [
    "df.to_csv(\"statement.csv\", index=False)"
   ]
  },
  {
   "cell_type": "markdown",
   "id": "ce1edb9b-0410-4c68-b42c-e8a373488cf9",
   "metadata": {},
   "source": [
    "# =========================================="
   ]
  },
  {
   "cell_type": "markdown",
   "id": "189027ba-40b2-4379-b782-9ea701b0f94e",
   "metadata": {},
   "source": [
    "## Clean Up"
   ]
  },
  {
   "cell_type": "code",
   "execution_count": null,
   "id": "43547576-7641-401a-ac94-aa30e57cf2c1",
   "metadata": {},
   "outputs": [],
   "source": [
    "clear_statement_dict()\n",
    "# statement_dict"
   ]
  },
  {
   "cell_type": "code",
   "execution_count": null,
   "id": "bfdbf0d2-fc59-43a4-a6fc-47f378534502",
   "metadata": {},
   "outputs": [],
   "source": []
  }
 ],
 "metadata": {
  "kernelspec": {
   "display_name": "Python 3.10.1 64-bit",
   "language": "python",
   "name": "python3"
  },
  "language_info": {
   "codemirror_mode": {
    "name": "ipython",
    "version": 3
   },
   "file_extension": ".py",
   "mimetype": "text/x-python",
   "name": "python",
   "nbconvert_exporter": "python",
   "pygments_lexer": "ipython3",
   "version": "3.10.1"
  },
  "vscode": {
   "interpreter": {
    "hash": "aee8b7b246df8f9039afb4144a1f6fd8d2ca17a180786b69acc140d282b71a49"
   }
  }
 },
 "nbformat": 4,
 "nbformat_minor": 5
}
