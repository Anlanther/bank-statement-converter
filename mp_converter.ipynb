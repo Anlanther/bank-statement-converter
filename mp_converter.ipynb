{
 "cells": [
  {
   "cell_type": "markdown",
   "metadata": {},
   "source": [
    "## Imports"
   ]
  },
  {
   "cell_type": "code",
   "execution_count": null,
   "metadata": {},
   "outputs": [],
   "source": [
    "import pdfplumber\n",
    "import pandas as pd\n",
    "import numpy as np\n",
    "from datetime import datetime\n",
    "import os\n",
    "import re"
   ]
  },
  {
   "cell_type": "markdown",
   "metadata": {},
   "source": [
    "# =========================================="
   ]
  },
  {
   "cell_type": "markdown",
   "metadata": {},
   "source": [
    "## Functions"
   ]
  },
  {
   "cell_type": "code",
   "execution_count": null,
   "metadata": {},
   "outputs": [],
   "source": [
    "def get_date(str_date):\n",
    "    date = datetime.strptime(str_date, '%d-%b%Y')\n",
    "    return date\n",
    "\n",
    "def is_date(date):\n",
    "    try:\n",
    "        get_date(date)\n",
    "        return True\n",
    "    except ValueError:\n",
    "        return False\n",
    "\n",
    "def is_float(str_float):\n",
    "    try:\n",
    "        float(str_float)\n",
    "        if str_float[-3] == \".\":\n",
    "            return True\n",
    "        else:\n",
    "            return False\n",
    "    except ValueError:\n",
    "        return False"
   ]
  },
  {
   "cell_type": "code",
   "execution_count": null,
   "metadata": {},
   "outputs": [],
   "source": [
    "def enter_row_into_statement_dict(date, details, amount, balance):\n",
    "    global statement_dict\n",
    "    statement_dict[\"Date\"] += [date]\n",
    "    statement_dict[\"Transaction Details\"] += [details]\n",
    "    statement_dict[\"Amount\"] += [amount]\n",
    "    statement_dict[\"Balance\"] += [balance]\n",
    "    \n",
    "def clear_statement_dict():\n",
    "    global statement_dict\n",
    "    statement_dict[\"Date\"] = []\n",
    "    statement_dict[\"Transaction Details\"] = []\n",
    "    statement_dict[\"Amount\"] = []\n",
    "    statement_dict[\"Balance\"] = []\n",
    "    \n",
    "def clear_statement_globals():\n",
    "    global temp_row\n",
    "    temp_row[\"date\"] = \"\"\n",
    "    temp_row[\"balance\"] = \"\"\n",
    "    temp_row[\"amount\"] = \"\"\n",
    "    temp_row[\"details\"] = \"\""
   ]
  },
  {
   "cell_type": "code",
   "execution_count": null,
   "metadata": {},
   "outputs": [],
   "source": [
    "def adjust_date(line):\n",
    "    date_regex = '[0-9]{2} [a-zA-Z]{3}'\n",
    "    double_digit_date = re.search(date_regex, line[:6])\n",
    "    \n",
    "    if double_digit_date: \n",
    "        adjusted_line = line[:2] + '-' + line[3:]\n",
    "    else:\n",
    "        adjusted_line = line[:1] + '-' + line[2:]\n",
    "    return adjusted_line\n",
    "\n",
    "def test_for_date(line):\n",
    "    date_regex = '([0-9]{2}|[0-9]) [a-zA-Z]{3}'\n",
    "    date_in_line = re.search(date_regex, line[:6])\n",
    "\n",
    "    if date_in_line:\n",
    "        return True\n",
    "    else:\n",
    "        return False\n",
    "\n",
    "def adjust_year(line, invoice):\n",
    "    line_has_date = test_for_date(line)\n",
    "    \n",
    "    if line_has_date:\n",
    "        line = adjust_date(line)\n",
    "\n",
    "    invoice_is_jan = \"-01.\" in invoice\n",
    "    line_has_dec = \"-Dec \" in line\n",
    "    year = invoice[invoice.find('/')+1:invoice.find('-')]\n",
    "\n",
    "    if invoice_is_jan and line_has_dec:\n",
    "        return line.replace(\"-Dec\", f\"-Dec{int(year) - 1}\")\n",
    "    elif not line_has_date:\n",
    "        return line\n",
    "    else:\n",
    "        adjusted_date_with_year = f\"{line.split()[0] + year} {' '.join(line.split()[1:])}\"\n",
    "        return adjusted_date_with_year"
   ]
  },
  {
   "cell_type": "code",
   "execution_count": null,
   "metadata": {},
   "outputs": [],
   "source": [
    "def add_row_to_dic(items, starts_with_date, last_item_is_number):\n",
    "    global temp_row\n",
    "\n",
    "    has_two_amounts = is_float(items[-2])\n",
    "    \n",
    "    if starts_with_date:\n",
    "        temp_row[\"date\"] = get_date(items[0])\n",
    "\n",
    "        if has_two_amounts:\n",
    "            temp_row[\"balance\"] = items[-1]\n",
    "            temp_row[\"amount\"] = items[-2]\n",
    "            temp_row[\"details\"] = \" \".join(items[1:-2])\n",
    "            enter_row_into_statement_dict(temp_row[\"date\"], temp_row[\"details\"], temp_row[\"amount\"], temp_row[\"balance\"])\n",
    "\n",
    "        elif last_item_is_number:\n",
    "            temp_row[\"amount\"] = items[-1]\n",
    "            temp_row[\"details\"] = \" \".join(items[1:-1])\n",
    "            enter_row_into_statement_dict(temp_row[\"date\"], temp_row[\"details\"], temp_row[\"amount\"], temp_row[\"balance\"])\n",
    "\n",
    "        else:\n",
    "            temp_row[\"details\"] = \" \".join(items[1:])\n",
    "            temp_row[\"amount\"] = \"\"\n",
    "\n",
    "    else:\n",
    "\n",
    "        if has_two_amounts:\n",
    "            temp_row[\"balance\"] = items[-1]\n",
    "            temp_row[\"amount\"] = items[-2]\n",
    "            temp_row[\"details\"] = temp_row[\"details\"] + \" \" + \" \".join(items[0:-2])\n",
    "            enter_row_into_statement_dict(temp_row[\"date\"], temp_row[\"details\"], temp_row[\"amount\"], temp_row[\"balance\"])\n",
    "        \n",
    "        elif last_item_is_number:            \n",
    "            temp_row[\"amount\"] = items[-1]\n",
    "\n",
    "            if temp_row[\"unfinished-flag\"] is True:\n",
    "                temp_row[\"details\"] = temp_row[\"details\"] + \" \" + \" \".join(items[0:-1])\n",
    "                temp_row[\"unfinished-flag\"] = False\n",
    "            \n",
    "            else:\n",
    "                temp_row[\"details\"] = \" \".join(items[0:-1])\n",
    "\n",
    "            enter_row_into_statement_dict(temp_row[\"date\"], temp_row[\"details\"], temp_row[\"amount\"], temp_row[\"balance\"])\n",
    "        \n",
    "        else:\n",
    "            temp_row[\"amount\"] = \"\"\n",
    "            temp_row[\"details\"] = \" \".join(items)\n",
    "            temp_row[\"unfinished-flag\"] = True\n",
    "\n",
    "def add_first_row_to_dic(items):\n",
    "    global temp_row\n",
    "\n",
    "    temp_row[\"date\"] = get_date(items[0])\n",
    "    temp_row[\"details\"] = \" \".join(items[1:-1])\n",
    "    temp_row[\"balance\"] = items[-1].replace(\",\",\"\")\n",
    "    enter_row_into_statement_dict(temp_row[\"date\"], temp_row[\"details\"], temp_row[\"amount\"], temp_row[\"balance\"])\n",
    "\n",
    "def prepare_statement_dict(statement, invoice):\n",
    "    for line in statement:\n",
    "        items = adjust_year(line, invoice).split()\n",
    "\n",
    "        last_item_is_number = is_float(items[-1])\n",
    "        details_entered_yet = temp_row[\"details\"] != \"\"\n",
    "        starts_with_date = is_date(items[0])\n",
    "\n",
    "        if starts_with_date and last_item_is_number and not details_entered_yet:\n",
    "            add_first_row_to_dic(items)\n",
    "        elif starts_with_date and last_item_is_number: \n",
    "            add_row_to_dic(items, starts_with_date=True, last_item_is_number=True)\n",
    "        elif starts_with_date and not last_item_is_number: \n",
    "            add_row_to_dic(items, starts_with_date=True, last_item_is_number=False)\n",
    "        elif not starts_with_date and last_item_is_number:\n",
    "            add_row_to_dic(items, starts_with_date=False, last_item_is_number=True)\n",
    "        elif not starts_with_date and not last_item_is_number:\n",
    "            add_row_to_dic(items, starts_with_date=False, last_item_is_number=False)"
   ]
  },
  {
   "cell_type": "code",
   "execution_count": null,
   "metadata": {},
   "outputs": [],
   "source": [
    "def remove_page_break(statement_raw):\n",
    "    page_break = 'The Hongkong and Shanghai Banking Corporation'\n",
    "\n",
    "    if page_break in \" \".join(statement_raw):\n",
    "        start = [i for i, s in enumerate(statement_raw) if page_break in s]\n",
    "        end = [i for i, s in enumerate(statement_raw) if 'Date' in s]\n",
    "\n",
    "        statement = statement_raw[0:start[0]] + statement_raw[end[0]+1:]\n",
    "        return statement\n",
    "    else:\n",
    "        return statement_raw\n",
    "\n",
    "def get_statement(text):\n",
    "    for i, s in enumerate(text.split(\"\\n\")):\n",
    "        if 'B/F BALANCE' in s:\n",
    "            start = i\n",
    "            break\n",
    "    \n",
    "    if 'HKD Current' in text:\n",
    "        for i, s in reversed(list(enumerate(text.split(\"\\n\")))):\n",
    "            if 'HKD Current' in s:\n",
    "                end = i\n",
    "                break\n",
    "            \n",
    "        statement_raw = [row.replace(\",\", \"\") for row in text.split(\"\\n\")[start:end]]\n",
    "\n",
    "    else:\n",
    "        for i, s in reversed(list(enumerate(text.split(\"\\n\")))):\n",
    "            if 'Total Relationship Balance' in s:\n",
    "                end = i\n",
    "                break\n",
    "        \n",
    "        statement_raw = [row.replace(\",\", \"\") for row in text.split(\"\\n\")[start:end-1]]\n",
    "\n",
    "    statement = remove_page_break(statement_raw)\n",
    "    return statement"
   ]
  },
  {
   "cell_type": "code",
   "execution_count": null,
   "metadata": {},
   "outputs": [],
   "source": [
    "def convert(invoices):\n",
    "    global statement_dict\n",
    "\n",
    "    for invoice in invoices:\n",
    "        with pdfplumber.open(invoice) as pdf:\n",
    "            text = \" \".join([content.extract_text(x_tolerance=1) for content in pdf.pages])\n",
    "\n",
    "        statement = get_statement(text)\n",
    "        prepare_statement_dict(statement, invoice)\n",
    "        clear_statement_globals()\n",
    "        \n",
    "    df = pd.DataFrame(statement_dict, columns= [\"Date\", \"Transaction Details\", \"Amount\", \"Balance\"])\n",
    "    return df"
   ]
  },
  {
   "cell_type": "markdown",
   "metadata": {},
   "source": [
    "# =========================================="
   ]
  },
  {
   "cell_type": "markdown",
   "metadata": {},
   "source": [
    "## Globals"
   ]
  },
  {
   "cell_type": "code",
   "execution_count": null,
   "metadata": {},
   "outputs": [],
   "source": [
    "statement_dict = {\n",
    "    \"Date\": [],\n",
    "    \"Transaction Details\": [], \n",
    "    \"Amount\": [],\n",
    "    \"Balance\": [] \n",
    "}"
   ]
  },
  {
   "cell_type": "code",
   "execution_count": null,
   "metadata": {},
   "outputs": [],
   "source": [
    "temp_row = {\n",
    "    \"date\": \"\",\n",
    "    \"balance\": \"\",\n",
    "    \"amount\": \"\",\n",
    "    \"details\": \"\",\n",
    "    \"unfinished-flag\": False\n",
    "}"
   ]
  },
  {
   "cell_type": "markdown",
   "metadata": {},
   "source": [
    "# =========================================="
   ]
  },
  {
   "cell_type": "markdown",
   "metadata": {},
   "source": [
    "## START HERE"
   ]
  },
  {
   "cell_type": "code",
   "execution_count": null,
   "metadata": {},
   "outputs": [],
   "source": [
    "invoices = [f'mp_statements/{string}'for string in os.listdir(f'{os.getcwd()}/mp_statements') if string[0] != '.']\n",
    "invoices"
   ]
  },
  {
   "cell_type": "code",
   "execution_count": null,
   "metadata": {},
   "outputs": [],
   "source": [
    "df = convert(invoices).sort_values(by=\"Date\")\n",
    "df.head(20)"
   ]
  },
  {
   "cell_type": "code",
   "execution_count": null,
   "metadata": {},
   "outputs": [],
   "source": [
    "df.to_csv(\"mp_statement.csv\", index=False, mode='w+')"
   ]
  },
  {
   "cell_type": "markdown",
   "metadata": {},
   "source": [
    "# =========================================="
   ]
  },
  {
   "cell_type": "markdown",
   "metadata": {},
   "source": [
    "## Clean Up"
   ]
  },
  {
   "cell_type": "code",
   "execution_count": null,
   "metadata": {},
   "outputs": [],
   "source": [
    "clear_statement_dict()"
   ]
  }
 ],
 "metadata": {
  "kernelspec": {
   "display_name": "Python 3.10.1 64-bit",
   "language": "python",
   "name": "python3"
  },
  "language_info": {
   "codemirror_mode": {
    "name": "ipython",
    "version": 3
   },
   "file_extension": ".py",
   "mimetype": "text/x-python",
   "name": "python",
   "nbconvert_exporter": "python",
   "pygments_lexer": "ipython3",
   "version": "3.10.1"
  },
  "orig_nbformat": 4,
  "vscode": {
   "interpreter": {
    "hash": "aee8b7b246df8f9039afb4144a1f6fd8d2ca17a180786b69acc140d282b71a49"
   }
  }
 },
 "nbformat": 4,
 "nbformat_minor": 2
}
